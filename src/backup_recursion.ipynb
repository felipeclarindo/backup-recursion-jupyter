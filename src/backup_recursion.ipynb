{
 "cells": [
  {
   "cell_type": "markdown",
   "id": "ac94321e",
   "metadata": {},
   "source": [
    "# System Backup Recursion\n",
    "\n",
    "Jupyter to create the backup using recursion.\n"
   ]
  },
  {
   "cell_type": "markdown",
   "id": "5c6c1315",
   "metadata": {},
   "source": [
    "## Install dependencies\n"
   ]
  },
  {
   "cell_type": "code",
   "execution_count": 8,
   "id": "fb236866",
   "metadata": {},
   "outputs": [
    {
     "name": "stdout",
     "output_type": "stream",
     "text": [
      "Requirement already satisfied: pandas in c:\\users\\fglpc\\desktop\\projetos\\system-backup-recursion-jupyter\\.venv\\lib\\site-packages (from -r ../requirements.txt (line 1)) (2.2.3)\n",
      "Requirement already satisfied: ipykernel in c:\\users\\fglpc\\desktop\\projetos\\system-backup-recursion-jupyter\\.venv\\lib\\site-packages (from -r ../requirements.txt (line 2)) (6.29.5)\n",
      "Requirement already satisfied: numpy>=1.26.0 in c:\\users\\fglpc\\desktop\\projetos\\system-backup-recursion-jupyter\\.venv\\lib\\site-packages (from pandas->-r ../requirements.txt (line 1)) (2.2.4)\n",
      "Requirement already satisfied: python-dateutil>=2.8.2 in c:\\users\\fglpc\\desktop\\projetos\\system-backup-recursion-jupyter\\.venv\\lib\\site-packages (from pandas->-r ../requirements.txt (line 1)) (2.9.0.post0)\n",
      "Requirement already satisfied: pytz>=2020.1 in c:\\users\\fglpc\\desktop\\projetos\\system-backup-recursion-jupyter\\.venv\\lib\\site-packages (from pandas->-r ../requirements.txt (line 1)) (2025.2)\n",
      "Requirement already satisfied: tzdata>=2022.7 in c:\\users\\fglpc\\desktop\\projetos\\system-backup-recursion-jupyter\\.venv\\lib\\site-packages (from pandas->-r ../requirements.txt (line 1)) (2025.2)\n",
      "Requirement already satisfied: comm>=0.1.1 in c:\\users\\fglpc\\desktop\\projetos\\system-backup-recursion-jupyter\\.venv\\lib\\site-packages (from ipykernel->-r ../requirements.txt (line 2)) (0.2.2)\n",
      "Requirement already satisfied: debugpy>=1.6.5 in c:\\users\\fglpc\\desktop\\projetos\\system-backup-recursion-jupyter\\.venv\\lib\\site-packages (from ipykernel->-r ../requirements.txt (line 2)) (1.8.14)\n",
      "Requirement already satisfied: ipython>=7.23.1 in c:\\users\\fglpc\\desktop\\projetos\\system-backup-recursion-jupyter\\.venv\\lib\\site-packages (from ipykernel->-r ../requirements.txt (line 2)) (9.1.0)\n",
      "Requirement already satisfied: jupyter-client>=6.1.12 in c:\\users\\fglpc\\desktop\\projetos\\system-backup-recursion-jupyter\\.venv\\lib\\site-packages (from ipykernel->-r ../requirements.txt (line 2)) (8.6.3)\n",
      "Requirement already satisfied: jupyter-core!=5.0.*,>=4.12 in c:\\users\\fglpc\\desktop\\projetos\\system-backup-recursion-jupyter\\.venv\\lib\\site-packages (from ipykernel->-r ../requirements.txt (line 2)) (5.7.2)\n",
      "Requirement already satisfied: matplotlib-inline>=0.1 in c:\\users\\fglpc\\desktop\\projetos\\system-backup-recursion-jupyter\\.venv\\lib\\site-packages (from ipykernel->-r ../requirements.txt (line 2)) (0.1.7)\n",
      "Requirement already satisfied: nest-asyncio in c:\\users\\fglpc\\desktop\\projetos\\system-backup-recursion-jupyter\\.venv\\lib\\site-packages (from ipykernel->-r ../requirements.txt (line 2)) (1.6.0)\n",
      "Requirement already satisfied: packaging in c:\\users\\fglpc\\desktop\\projetos\\system-backup-recursion-jupyter\\.venv\\lib\\site-packages (from ipykernel->-r ../requirements.txt (line 2)) (24.2)\n",
      "Requirement already satisfied: psutil in c:\\users\\fglpc\\desktop\\projetos\\system-backup-recursion-jupyter\\.venv\\lib\\site-packages (from ipykernel->-r ../requirements.txt (line 2)) (7.0.0)\n",
      "Requirement already satisfied: pyzmq>=24 in c:\\users\\fglpc\\desktop\\projetos\\system-backup-recursion-jupyter\\.venv\\lib\\site-packages (from ipykernel->-r ../requirements.txt (line 2)) (26.4.0)\n",
      "Requirement already satisfied: tornado>=6.1 in c:\\users\\fglpc\\desktop\\projetos\\system-backup-recursion-jupyter\\.venv\\lib\\site-packages (from ipykernel->-r ../requirements.txt (line 2)) (6.4.2)\n",
      "Requirement already satisfied: traitlets>=5.4.0 in c:\\users\\fglpc\\desktop\\projetos\\system-backup-recursion-jupyter\\.venv\\lib\\site-packages (from ipykernel->-r ../requirements.txt (line 2)) (5.14.3)\n",
      "Requirement already satisfied: colorama in c:\\users\\fglpc\\desktop\\projetos\\system-backup-recursion-jupyter\\.venv\\lib\\site-packages (from ipython>=7.23.1->ipykernel->-r ../requirements.txt (line 2)) (0.4.6)\n",
      "Requirement already satisfied: decorator in c:\\users\\fglpc\\desktop\\projetos\\system-backup-recursion-jupyter\\.venv\\lib\\site-packages (from ipython>=7.23.1->ipykernel->-r ../requirements.txt (line 2)) (5.2.1)\n",
      "Requirement already satisfied: ipython-pygments-lexers in c:\\users\\fglpc\\desktop\\projetos\\system-backup-recursion-jupyter\\.venv\\lib\\site-packages (from ipython>=7.23.1->ipykernel->-r ../requirements.txt (line 2)) (1.1.1)\n",
      "Requirement already satisfied: jedi>=0.16 in c:\\users\\fglpc\\desktop\\projetos\\system-backup-recursion-jupyter\\.venv\\lib\\site-packages (from ipython>=7.23.1->ipykernel->-r ../requirements.txt (line 2)) (0.19.2)\n",
      "Requirement already satisfied: prompt_toolkit<3.1.0,>=3.0.41 in c:\\users\\fglpc\\desktop\\projetos\\system-backup-recursion-jupyter\\.venv\\lib\\site-packages (from ipython>=7.23.1->ipykernel->-r ../requirements.txt (line 2)) (3.0.51)\n",
      "Requirement already satisfied: pygments>=2.4.0 in c:\\users\\fglpc\\desktop\\projetos\\system-backup-recursion-jupyter\\.venv\\lib\\site-packages (from ipython>=7.23.1->ipykernel->-r ../requirements.txt (line 2)) (2.19.1)\n",
      "Requirement already satisfied: stack_data in c:\\users\\fglpc\\desktop\\projetos\\system-backup-recursion-jupyter\\.venv\\lib\\site-packages (from ipython>=7.23.1->ipykernel->-r ../requirements.txt (line 2)) (0.6.3)\n",
      "Requirement already satisfied: platformdirs>=2.5 in c:\\users\\fglpc\\desktop\\projetos\\system-backup-recursion-jupyter\\.venv\\lib\\site-packages (from jupyter-core!=5.0.*,>=4.12->ipykernel->-r ../requirements.txt (line 2)) (4.3.7)\n",
      "Requirement already satisfied: pywin32>=300 in c:\\users\\fglpc\\desktop\\projetos\\system-backup-recursion-jupyter\\.venv\\lib\\site-packages (from jupyter-core!=5.0.*,>=4.12->ipykernel->-r ../requirements.txt (line 2)) (310)\n",
      "Requirement already satisfied: six>=1.5 in c:\\users\\fglpc\\desktop\\projetos\\system-backup-recursion-jupyter\\.venv\\lib\\site-packages (from python-dateutil>=2.8.2->pandas->-r ../requirements.txt (line 1)) (1.17.0)\n",
      "Requirement already satisfied: parso<0.9.0,>=0.8.4 in c:\\users\\fglpc\\desktop\\projetos\\system-backup-recursion-jupyter\\.venv\\lib\\site-packages (from jedi>=0.16->ipython>=7.23.1->ipykernel->-r ../requirements.txt (line 2)) (0.8.4)\n",
      "Requirement already satisfied: wcwidth in c:\\users\\fglpc\\desktop\\projetos\\system-backup-recursion-jupyter\\.venv\\lib\\site-packages (from prompt_toolkit<3.1.0,>=3.0.41->ipython>=7.23.1->ipykernel->-r ../requirements.txt (line 2)) (0.2.13)\n",
      "Requirement already satisfied: executing>=1.2.0 in c:\\users\\fglpc\\desktop\\projetos\\system-backup-recursion-jupyter\\.venv\\lib\\site-packages (from stack_data->ipython>=7.23.1->ipykernel->-r ../requirements.txt (line 2)) (2.2.0)\n",
      "Requirement already satisfied: asttokens>=2.1.0 in c:\\users\\fglpc\\desktop\\projetos\\system-backup-recursion-jupyter\\.venv\\lib\\site-packages (from stack_data->ipython>=7.23.1->ipykernel->-r ../requirements.txt (line 2)) (3.0.0)\n",
      "Requirement already satisfied: pure-eval in c:\\users\\fglpc\\desktop\\projetos\\system-backup-recursion-jupyter\\.venv\\lib\\site-packages (from stack_data->ipython>=7.23.1->ipykernel->-r ../requirements.txt (line 2)) (0.2.3)\n",
      "Note: you may need to restart the kernel to use updated packages.\n"
     ]
    },
    {
     "name": "stderr",
     "output_type": "stream",
     "text": [
      "\n",
      "[notice] A new release of pip is available: 24.3.1 -> 25.0.1\n",
      "[notice] To update, run: python.exe -m pip install --upgrade pip\n"
     ]
    }
   ],
   "source": [
    "%pip install -r ../requirements.txt"
   ]
  },
  {
   "cell_type": "markdown",
   "id": "76e4cea2",
   "metadata": {},
   "source": [
    "## Import libraries"
   ]
  },
  {
   "cell_type": "code",
   "execution_count": 9,
   "id": "1cbd23e4",
   "metadata": {},
   "outputs": [],
   "source": [
    "import pandas as pd\n",
    "from modules.folder import Folder"
   ]
  },
  {
   "cell_type": "markdown",
   "id": "5e9e1b44",
   "metadata": {},
   "source": [
    "## Loading the months\n"
   ]
  },
  {
   "cell_type": "code",
   "execution_count": 10,
   "id": "0fffffe0",
   "metadata": {},
   "outputs": [
    {
     "data": {
      "application/vnd.microsoft.datawrangler.viewer.v0+json": {
       "columns": [
        {
         "name": "index",
         "rawType": "int64",
         "type": "integer"
        },
        {
         "name": "0",
         "rawType": "object",
         "type": "string"
        }
       ],
       "conversionMethod": "pd.DataFrame",
       "ref": "a4f695d1-2b81-4120-a897-3f4de77f4833",
       "rows": [
        [
         "0",
         "jan2022"
        ],
        [
         "1",
         "fev2022"
        ],
        [
         "2",
         "mar2022"
        ],
        [
         "3",
         "abr2022"
        ],
        [
         "4",
         "mai2022"
        ],
        [
         "5",
         "jun2022"
        ],
        [
         "6",
         "jul2022"
        ],
        [
         "7",
         "ago2022"
        ],
        [
         "8",
         "set2022"
        ],
        [
         "9",
         "out2022"
        ],
        [
         "10",
         "nov2022"
        ],
        [
         "11",
         "dez2022"
        ],
        [
         "12",
         "jan2021"
        ],
        [
         "13",
         "fev2021"
        ],
        [
         "14",
         "mar2021"
        ],
        [
         "15",
         "abr2021"
        ],
        [
         "16",
         "mai2021"
        ],
        [
         "17",
         "jun2021"
        ],
        [
         "18",
         "jul2021"
        ],
        [
         "19",
         "ago2021"
        ],
        [
         "20",
         "set2021"
        ],
        [
         "21",
         "out2021"
        ],
        [
         "22",
         "nov2021"
        ],
        [
         "23",
         "dez2021"
        ],
        [
         "24",
         "jan2020"
        ],
        [
         "25",
         "fev2020"
        ],
        [
         "26",
         "mar2020"
        ],
        [
         "27",
         "abr2020"
        ],
        [
         "28",
         "mai2020"
        ],
        [
         "29",
         "jun2020"
        ],
        [
         "30",
         "jul2020"
        ],
        [
         "31",
         "ago2020"
        ],
        [
         "32",
         "set2020"
        ],
        [
         "33",
         "out2020"
        ],
        [
         "34",
         "nov2020"
        ],
        [
         "35",
         "dez2020"
        ],
        [
         "36",
         "jan2019"
        ],
        [
         "37",
         "fev2019"
        ],
        [
         "38",
         "mar2019"
        ],
        [
         "39",
         "abr2019"
        ],
        [
         "40",
         "mai2019"
        ],
        [
         "41",
         "jun2019"
        ],
        [
         "42",
         "jul2019"
        ],
        [
         "43",
         "ago2019"
        ],
        [
         "44",
         "set2019"
        ],
        [
         "45",
         "out2019"
        ],
        [
         "46",
         "nov2019"
        ],
        [
         "47",
         "dez2019"
        ],
        [
         "48",
         "jan2018"
        ],
        [
         "49",
         "fev2018"
        ]
       ],
       "shape": {
        "columns": 1,
        "rows": 72
       }
      },
      "text/html": [
       "<div>\n",
       "<style scoped>\n",
       "    .dataframe tbody tr th:only-of-type {\n",
       "        vertical-align: middle;\n",
       "    }\n",
       "\n",
       "    .dataframe tbody tr th {\n",
       "        vertical-align: top;\n",
       "    }\n",
       "\n",
       "    .dataframe thead th {\n",
       "        text-align: right;\n",
       "    }\n",
       "</style>\n",
       "<table border=\"1\" class=\"dataframe\">\n",
       "  <thead>\n",
       "    <tr style=\"text-align: right;\">\n",
       "      <th></th>\n",
       "      <th>0</th>\n",
       "    </tr>\n",
       "  </thead>\n",
       "  <tbody>\n",
       "    <tr>\n",
       "      <th>0</th>\n",
       "      <td>jan2022</td>\n",
       "    </tr>\n",
       "    <tr>\n",
       "      <th>1</th>\n",
       "      <td>fev2022</td>\n",
       "    </tr>\n",
       "    <tr>\n",
       "      <th>2</th>\n",
       "      <td>mar2022</td>\n",
       "    </tr>\n",
       "    <tr>\n",
       "      <th>3</th>\n",
       "      <td>abr2022</td>\n",
       "    </tr>\n",
       "    <tr>\n",
       "      <th>4</th>\n",
       "      <td>mai2022</td>\n",
       "    </tr>\n",
       "    <tr>\n",
       "      <th>...</th>\n",
       "      <td>...</td>\n",
       "    </tr>\n",
       "    <tr>\n",
       "      <th>67</th>\n",
       "      <td>ago2017</td>\n",
       "    </tr>\n",
       "    <tr>\n",
       "      <th>68</th>\n",
       "      <td>set2017</td>\n",
       "    </tr>\n",
       "    <tr>\n",
       "      <th>69</th>\n",
       "      <td>out2017</td>\n",
       "    </tr>\n",
       "    <tr>\n",
       "      <th>70</th>\n",
       "      <td>nov2017</td>\n",
       "    </tr>\n",
       "    <tr>\n",
       "      <th>71</th>\n",
       "      <td>dez2017</td>\n",
       "    </tr>\n",
       "  </tbody>\n",
       "</table>\n",
       "<p>72 rows × 1 columns</p>\n",
       "</div>"
      ],
      "text/plain": [
       "          0\n",
       "0   jan2022\n",
       "1   fev2022\n",
       "2   mar2022\n",
       "3   abr2022\n",
       "4   mai2022\n",
       "..      ...\n",
       "67  ago2017\n",
       "68  set2017\n",
       "69  out2017\n",
       "70  nov2017\n",
       "71  dez2017\n",
       "\n",
       "[72 rows x 1 columns]"
      ]
     },
     "execution_count": 10,
     "metadata": {},
     "output_type": "execute_result"
    }
   ],
   "source": [
    "system_months = pd.read_json(\"./data/details/months.json\")\n",
    "system_months"
   ]
  },
  {
   "cell_type": "markdown",
   "id": "30cb5e01",
   "metadata": {},
   "source": [
    "## Getting the sales files in the system\n"
   ]
  },
  {
   "cell_type": "code",
   "execution_count": 13,
   "id": "03efc4ac",
   "metadata": {},
   "outputs": [
    {
     "data": {
      "text/plain": [
       "['apr2022',\n",
       " 'aug2022',\n",
       " 'dec2022',\n",
       " 'feb2022',\n",
       " 'jan2022',\n",
       " 'jul2022',\n",
       " 'jun2022',\n",
       " 'mar2022',\n",
       " 'may2022',\n",
       " 'nov2022',\n",
       " 'oct2022',\n",
       " 'sep2022']"
      ]
     },
     "execution_count": 13,
     "metadata": {},
     "output_type": "execute_result"
    }
   ],
   "source": [
    "folder = Folder(\"data/system/sales/2022\")\n",
    "extracted_files = folder.get_files()\n",
    "extracted_files"
   ]
  },
  {
   "cell_type": "markdown",
   "id": "dfd56c09",
   "metadata": {},
   "source": [
    "## Validando meses em arquivos extraidos"
   ]
  },
  {
   "cell_type": "code",
   "execution_count": 12,
   "id": "c1aff9a0",
   "metadata": {},
   "outputs": [
    {
     "name": "stdout",
     "output_type": "stream",
     "text": [
      "0\n"
     ]
    }
   ],
   "source": [
    "for month in system_months:\n",
    "    if month not in extracted_files:\n",
    "        print(month)"
   ]
  }
 ],
 "metadata": {
  "kernelspec": {
   "display_name": ".venv",
   "language": "python",
   "name": "python3"
  },
  "language_info": {
   "codemirror_mode": {
    "name": "ipython",
    "version": 3
   },
   "file_extension": ".py",
   "mimetype": "text/x-python",
   "name": "python",
   "nbconvert_exporter": "python",
   "pygments_lexer": "ipython3",
   "version": "3.13.1"
  }
 },
 "nbformat": 4,
 "nbformat_minor": 5
}
